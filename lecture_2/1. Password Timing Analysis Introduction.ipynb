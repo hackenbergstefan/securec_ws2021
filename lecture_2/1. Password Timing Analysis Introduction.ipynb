{
 "cells": [
  {
   "cell_type": "markdown",
   "metadata": {},
   "source": [
    "# Lecture 2: Password Attack with Timing Analysis - Introduction"
   ]
  },
  {
   "cell_type": "markdown",
   "metadata": {},
   "source": [
    "## Password checking\n",
    "\n",
    "In this lecture we want to attack a function checking a password.\n",
    "We're starting with a usual function comparing an input against a stored password.\n",
    "\n",
    "The core loop of checking the password should look like:\n",
    "\n",
    "```c\n",
    "uint8_t password_correct = 1;\n",
    "for (unsigned int i = 0; i < sizeof(stored_password) - 1; i++)\n",
    "{\n",
    "    if (stored_password[i] != input[i])\n",
    "    {\n",
    "        password_correct = 0;\n",
    "        break;\n",
    "    }\n",
    "}\n",
    "```"
   ]
  },
  {
   "cell_type": "markdown",
   "metadata": {},
   "source": [
    "<div style=\"background: #f0ffe0; padding: 15px; border: 1px solid slategray;\">\n",
    "<div class=\"h2\" style=\"font-variant: small-caps;\">Exercise 1</div>\n",
    "    \n",
    "1. Use the C-file `lecture_1/rsa_uint8_fixed.c` as template and create a small program `lecture_2/1_password_fixed.c` which provides a function to check an input send with simpleserial against a stored one.\n",
    "2. Use the functionalities from `lecture_1/1. SPA RSA Introduction.ipynb` to implement a function capturing traces for different inputs. \n",
    "\n",
    "</div>"
   ]
  },
  {
   "cell_type": "markdown",
   "metadata": {},
   "source": [
    "## Capture Traces of Checking Passwords"
   ]
  },
  {
   "cell_type": "code",
   "execution_count": null,
   "metadata": {},
   "outputs": [],
   "source": []
  }
 ],
 "metadata": {
  "kernelspec": {
   "display_name": "Python 3",
   "language": "python",
   "name": "python3"
  },
  "language_info": {
   "codemirror_mode": {
    "name": "ipython",
    "version": 3
   },
   "file_extension": ".py",
   "mimetype": "text/x-python",
   "name": "python",
   "nbconvert_exporter": "python",
   "pygments_lexer": "ipython3",
   "version": "3.8.5"
  },
  "toc": {
   "base_numbering": 1,
   "nav_menu": {},
   "number_sections": true,
   "sideBar": true,
   "skip_h1_title": true,
   "title_cell": "Table of Contents",
   "title_sidebar": "Contents",
   "toc_cell": false,
   "toc_position": {},
   "toc_section_display": true,
   "toc_window_display": true
  }
 },
 "nbformat": 4,
 "nbformat_minor": 4
}
