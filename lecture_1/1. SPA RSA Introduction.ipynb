{
 "cells": [
  {
   "cell_type": "markdown",
   "metadata": {},
   "source": [
    "# Lecture 1: Breaking RSA with SPA - Introduction"
   ]
  },
  {
   "cell_type": "markdown",
   "metadata": {},
   "source": [
    "## RSA Cryptosystem\n",
    "\n",
    "RSA (Rivest–Shamir–Adleman) is a public-key cryptosystem that is widely used for secure data transmission. It is also one of the oldest. The acronym RSA comes from the surnames of Ron Rivest, Adi Shamir, and Leonard Adleman, who publicly described the algorithm in 1977. An equivalent system was developed secretly, in 1973 at GCHQ (the British signals intelligence agency), by the English mathematician Clifford Cocks. That system was declassified in 1997. (from https://en.wikipedia.org/wiki/RSA_(cryptosystem))\n",
    "\n",
    "### How it works\n",
    "\n",
    "#### Parameters\n",
    "\n",
    "The parameters defining a RSA cryptosystem are given by a few integers:\n",
    "* a prime $p$, a prime $q$, the so called _modulus_ $n = p \\cdot q$,\n",
    "* a _public exponent_ $e$ with $\\mathrm{gcd}(e, \\phi(n)) = 1$,\n",
    "* a _private exponent_ $d$ with $d \\cdot e \\equiv 1 \\mod \\phi(n)$.\n",
    "\n",
    "In real applications $n$ has a bit-length of 2k to 4k and $e$ is often set to the 4th Fermat number $F_4 = 2^{2^4} = 65537 = 0x10001$.\n",
    "\n",
    "#### Encryption\n",
    "\n",
    "Given a message $m \\in [0..n]$ the _encryption_ function is given by:\n",
    "$$ c := m^e \\mod n,$$\n",
    "where $c$ is the resulting ciphertext.\n",
    "\n",
    "#### Decryption\n",
    "Given a ciphertext $c \\in [0..n]$ the _decryption_ fcuntion is given by:\n",
    "\n",
    "$$ m := c^d \\mod n.$$\n",
    "\n",
    "#### Proof\n",
    "Fermat's little theorem ;-)"
   ]
  },
  {
   "cell_type": "markdown",
   "metadata": {},
   "source": [
    "## How to do in C?\n",
    "\n",
    "In C it's not obvious how to do modular exponentiation. But a well-known algorithm called _Square-and-Multiply_ helps:\n",
    "\n",
    "```\n",
    "// Calculate x^k\n",
    "// b: Binary representation of k\n",
    "// res: Result\n",
    "\n",
    "function bin_exp(x,b)\n",
    "  res = 1\n",
    "  for i = n..0\n",
    "    res = res^2\n",
    "    if b_i == 1\n",
    "      res = res * x\n",
    "    end-if\n",
    "  end-for\n",
    "  return res\n",
    "end-function\n",
    "```\n",
    "(Pseudocode from https://de.wikipedia.org/wiki/Bin%C3%A4re_Exponentiation)"
   ]
  },
  {
   "cell_type": "markdown",
   "metadata": {},
   "source": [
    "## Capture and Attack!\n",
    "\n",
    "### Implementation\n",
    "\n",
    "This leads us to the following concrete implementation in C where we used only integers of size `uint8_t`:\n",
    "```c\n",
    "uint8_t exponent = private_exponent;\n",
    "uint8_t message = 0xA0;\n",
    "\n",
    "uint16_t tmp;\n",
    "uint8_t result = 1;\n",
    "while (exponent)\n",
    "{\n",
    "    if (exponent & 1)\n",
    "    {\n",
    "        tmp = result * message;\n",
    "        result = tmp % modulus;\n",
    "    }\n",
    "\n",
    "    tmp = message * message;\n",
    "    message = tmp % modulus;\n",
    "    exponent >>= 1;\n",
    "}\n",
    "```"
   ]
  },
  {
   "cell_type": "markdown",
   "metadata": {},
   "source": [
    "<div style=\"background: #f0ffe0; padding: 15px; border: 1px solid slategray;\">\n",
    "<div class=\"h2\" style=\"font-variant: small-caps;\">Exercise 1</div>\n",
    "    \n",
    "1. Explain why the above code works. \n",
    "2. Explain why `tmp` is of type `uint16_t`.\n",
    "\n",
    "</div>"
   ]
  },
  {
   "cell_type": "markdown",
   "metadata": {},
   "source": [
    "### Record a trace"
   ]
  },
  {
   "cell_type": "code",
   "execution_count": null,
   "metadata": {},
   "outputs": [],
   "source": [
    "import securec\n",
    "import securec.util as util\n",
    "scope, target = util.init()"
   ]
  },
  {
   "cell_type": "code",
   "execution_count": null,
   "metadata": {},
   "outputs": [],
   "source": [
    "securec.util.compile_and_flash('./1_rsa_uint8_fixed.c')"
   ]
  },
  {
   "cell_type": "code",
   "execution_count": null,
   "metadata": {},
   "outputs": [],
   "source": [
    "import struct\n",
    "import time\n",
    "import warnings\n",
    "    \n",
    "scope.default_setup()\n",
    "scope.adc.samples = 5000\n",
    "\n",
    "def capture():\n",
    "    scope.arm()\n",
    "    target.simpleserial_write('r', b'')\n",
    "    return util.capture()"
   ]
  },
  {
   "cell_type": "code",
   "execution_count": null,
   "metadata": {},
   "outputs": [],
   "source": [
    "trace = capture()"
   ]
  },
  {
   "cell_type": "code",
   "execution_count": null,
   "metadata": {},
   "outputs": [],
   "source": [
    "from bokeh.plotting import figure, show \n",
    "from bokeh.io import output_notebook\n",
    "from bokeh.models import CrosshairTool\n",
    "from bokeh.palettes import Category10_10\n",
    "\n",
    "output_notebook()"
   ]
  },
  {
   "cell_type": "code",
   "execution_count": null,
   "metadata": {},
   "outputs": [],
   "source": [
    "p = figure(width=900, height=800)\n",
    "p.add_tools(CrosshairTool())\n",
    "p.line(range(0, len(trace)), trace)\n",
    "show(p)"
   ]
  },
  {
   "cell_type": "markdown",
   "metadata": {},
   "source": [
    "<div style=\"background: #f0ffe0; padding: 15px; border: 1px solid slategray;\">\n",
    "<div class=\"h2\" style=\"font-variant: small-caps;\">Exercise 2</div>\n",
    "\n",
    "1. Try to explain the picture above! What do you see? Can you tell the exponent? If not, have a look into the code. Do you \"see\" the exponent now?\n",
    "2. Make familiar with the capture code. You'll need it often...\n",
    "\n",
    "</div>"
   ]
  },
  {
   "cell_type": "code",
   "execution_count": null,
   "metadata": {},
   "outputs": [],
   "source": [
    "util.exit()"
   ]
  }
 ],
 "metadata": {
  "kernelspec": {
   "display_name": "Python 3",
   "language": "python",
   "name": "python3"
  },
  "language_info": {
   "codemirror_mode": {
    "name": "ipython",
    "version": 3
   },
   "file_extension": ".py",
   "mimetype": "text/x-python",
   "name": "python",
   "nbconvert_exporter": "python",
   "pygments_lexer": "ipython3",
   "version": "3.8.5"
  },
  "toc": {
   "base_numbering": 1,
   "nav_menu": {
    "height": "216px",
    "width": "232px"
   },
   "number_sections": true,
   "sideBar": true,
   "skip_h1_title": true,
   "title_cell": "Table of Contents",
   "title_sidebar": "Contents",
   "toc_cell": false,
   "toc_position": {},
   "toc_section_display": true,
   "toc_window_display": true
  }
 },
 "nbformat": 4,
 "nbformat_minor": 4
}
