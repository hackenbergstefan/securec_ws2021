{
 "cells": [
  {
   "cell_type": "markdown",
   "metadata": {},
   "source": [
    "# Lecture 1: Breaking RSA with SPA - Automate\n",
    "\n",
    "In this notebook we want to see how to develop an algorithm which automatically reveals the exponent from a given trace."
   ]
  },
  {
   "cell_type": "code",
   "execution_count": null,
   "metadata": {},
   "outputs": [],
   "source": [
    "import securec\n",
    "import securec.util as util\n",
    "scope, target = util.init()"
   ]
  },
  {
   "cell_type": "code",
   "execution_count": null,
   "metadata": {},
   "outputs": [],
   "source": [
    "securec.util.compile_and_flash('./2_rsa_uint8_variable.c')"
   ]
  },
  {
   "cell_type": "code",
   "execution_count": null,
   "metadata": {},
   "outputs": [],
   "source": [
    "import struct\n",
    "import time\n",
    "import warnings\n",
    "    \n",
    "scope.default_setup()\n",
    "scope.adc.samples = 5500\n",
    "\n",
    "def capture(exponent, message=0xA0, modulus=0xFF):\n",
    "    scope.arm()\n",
    "    target.simpleserial_write('r', struct.pack('<BBB', message, exponent, modulus))\n",
    "    return util.capture()"
   ]
  },
  {
   "cell_type": "markdown",
   "metadata": {},
   "source": [
    "## Recap\n",
    "\n",
    "First of all we want to recap the recorded traces from the last notebook."
   ]
  },
  {
   "cell_type": "code",
   "execution_count": null,
   "metadata": {},
   "outputs": [],
   "source": [
    "from bokeh.plotting import figure, show \n",
    "from bokeh.io import output_notebook\n",
    "from bokeh.models import CrosshairTool\n",
    "from bokeh.palettes import Category10_10\n",
    "\n",
    "output_notebook()"
   ]
  },
  {
   "cell_type": "code",
   "execution_count": null,
   "metadata": {},
   "outputs": [],
   "source": [
    "traces = [(exp, capture(exp)) for exp in (0b100, 0b101, 0b111)]"
   ]
  },
  {
   "cell_type": "code",
   "execution_count": null,
   "metadata": {},
   "outputs": [],
   "source": [
    "p = figure(width=900, height=300)\n",
    "p.add_tools(CrosshairTool())\n",
    "for i, (exp, trace) in enumerate(traces):\n",
    "    p.line(range(0, len(trace)), trace - i * 0.6, legend_label=bin(exp), line_color=Category10_10[i])\n",
    "show(p)"
   ]
  },
  {
   "cell_type": "markdown",
   "metadata": {},
   "source": [
    "## A bit of signal processing"
   ]
  },
  {
   "cell_type": "code",
   "execution_count": null,
   "metadata": {},
   "outputs": [],
   "source": [
    "import numpy as np\n",
    "import scipy\n",
    "import scipy.signal"
   ]
  },
  {
   "cell_type": "markdown",
   "metadata": {},
   "source": [
    "### Crop\n",
    "First of all we want to crop the traces so that we really concentrate on the proper values."
   ]
  },
  {
   "cell_type": "code",
   "execution_count": null,
   "metadata": {},
   "outputs": [],
   "source": [
    "def crop(trace, peak_height=0.4):\n",
    "    \"\"\"Cut off irrelevant parts of given trace by looking at the most significant peaks.\"\"\"\n",
    "    peaks, _ = scipy.signal.find_peaks(-trace, height=peak_height)\n",
    "    return trace[peaks[0]:peaks[1]]"
   ]
  },
  {
   "cell_type": "code",
   "execution_count": null,
   "metadata": {},
   "outputs": [],
   "source": [
    "p = figure(width=900, height=300)\n",
    "p.add_tools(CrosshairTool())\n",
    "for i, (exp, trace) in enumerate(traces):\n",
    "    trace = crop(trace)\n",
    "    p.line(range(0, len(trace)), trace - i * 0.6, legend_label=bin(exp), line_color=Category10_10[i])\n",
    "show(p)"
   ]
  },
  {
   "cell_type": "markdown",
   "metadata": {},
   "source": [
    "### Preprocess\n",
    "\n",
    "With manual analysis we can recognize that the peaks look a bit different if the processed bit is 0 or 1. But to make this \"visible\" for an algorithm let's consider the following modifications.   "
   ]
  },
  {
   "cell_type": "code",
   "execution_count": null,
   "metadata": {},
   "outputs": [],
   "source": [
    "def neighbormax(trace, neighbors=50):\n",
    "    \"\"\"Calculate the pointwise maximum of a trace respecting each point's neighborhood\"\"\"\n",
    "    trace = np.abs(trace)\n",
    "    return np.array([np.max(trace[i:i + neighbors]) for i in range(len(trace))])"
   ]
  },
  {
   "cell_type": "code",
   "execution_count": null,
   "metadata": {},
   "outputs": [],
   "source": [
    "p = figure(width=900, height=300)\n",
    "p.add_tools(CrosshairTool())\n",
    "for i, (exp, trace) in enumerate(traces):\n",
    "    trace = neighbormax(crop(trace))\n",
    "    p.line(range(0, len(trace)), trace - i * 0.3, legend_label=bin(exp), line_color=Category10_10[i])\n",
    "show(p)"
   ]
  },
  {
   "cell_type": "markdown",
   "metadata": {},
   "source": [
    "### Detecting peaks\n",
    "\n",
    "Now it's quite obvious where 0 and 1 occur. Each of the down-peaks mark the start of a new multiplication round."
   ]
  },
  {
   "cell_type": "code",
   "execution_count": null,
   "metadata": {},
   "outputs": [],
   "source": [
    "def downpeaks(trace, peak_height=0.2, digest_width=800):\n",
    "    \"\"\"Returning peaks below given height. \n",
    "    Note: First an last point of trace are also considered as peaks.\"\"\"\n",
    "    peaks, _ = scipy.signal.find_peaks(-trace, height=-peak_height)\n",
    "    peaks = [p for p in peaks if p > digest_width / 2 and p < len(trace) - digest_width / 2]\n",
    "    peaks = [0] + peaks + [len(trace) - 1]\n",
    "    return np.array(peaks), trace[peaks]"
   ]
  },
  {
   "cell_type": "code",
   "execution_count": null,
   "metadata": {},
   "outputs": [],
   "source": [
    "p = figure(width=900, height=300)\n",
    "p.add_tools(CrosshairTool())\n",
    "for i, (exp, trace) in enumerate(traces):\n",
    "    trace = neighbormax(crop(trace))\n",
    "    p.line(range(0, len(trace)), trace - i * 0.3, legend_label=bin(exp), line_color=Category10_10[i])\n",
    "    trace_peaks = downpeaks(trace)\n",
    "    p.circle(trace_peaks[0], trace_peaks[1] - i * 0.3, color=Category10_10[i])\n",
    "show(p)"
   ]
  },
  {
   "cell_type": "markdown",
   "metadata": {},
   "source": [
    "## Writing the algorithm\n",
    "\n",
    "Now it's quite clear how to proceed: Look at the distance between two peaks. If it is equal to 1 multiplication the exponent's bit was 0, if it is 2 the exponent's bit was 1."
   ]
  },
  {
   "cell_type": "code",
   "execution_count": null,
   "metadata": {},
   "outputs": [],
   "source": [
    "def attack_rsa_spa(trace, digest_width=800, max_neighbors=50, downpeak_height=0.2):\n",
    "    \"\"\"\n",
    "    Reveal exponent's bit by analyzing given trace.\n",
    "\n",
    "    :param digest_width: With of one multiplication\n",
    "    :param max_neighbors: Number of neighbors to look at when computing pointwise max\n",
    "    :param downpeak_height: Height of peak for detecting peaks\n",
    "    \n",
    "    :return: List of 0 and 1 indicating bits of exponent\n",
    "    \"\"\"\n",
    "    # Preprocess trace\n",
    "    trace = neighbormax(crop(trace), neighbors=max_neighbors)\n",
    "    # Find downpeaks including start and end point\n",
    "    peak, _ = downpeaks(trace, peak_height=downpeak_height, digest_width=digest_width)\n",
    "    # Use information of digest width to convert to binary\n",
    "    normalized_peaks = [int(p) for p in np.round(peak / digest_width)]\n",
    "    return list(reversed([0 if p1 + 1 == p2 else 1 for p1, p2 in zip(normalized_peaks, normalized_peaks[1:])]))\n",
    "    "
   ]
  },
  {
   "cell_type": "code",
   "execution_count": null,
   "metadata": {},
   "outputs": [],
   "source": [
    "for exp, trace in traces:\n",
    "    print(bin(exp), '=>', attack_rsa_spa(trace))"
   ]
  },
  {
   "cell_type": "code",
   "execution_count": null,
   "metadata": {},
   "outputs": [],
   "source": [
    "util.exit()"
   ]
  }
 ],
 "metadata": {
  "kernelspec": {
   "display_name": "Python 3",
   "language": "python",
   "name": "python3"
  },
  "language_info": {
   "codemirror_mode": {
    "name": "ipython",
    "version": 3
   },
   "file_extension": ".py",
   "mimetype": "text/x-python",
   "name": "python",
   "nbconvert_exporter": "python",
   "pygments_lexer": "ipython3",
   "version": "3.8.5"
  },
  "toc": {
   "base_numbering": 1,
   "nav_menu": {},
   "number_sections": true,
   "sideBar": true,
   "skip_h1_title": true,
   "title_cell": "Table of Contents",
   "title_sidebar": "Contents",
   "toc_cell": false,
   "toc_position": {},
   "toc_section_display": true,
   "toc_window_display": false
  }
 },
 "nbformat": 4,
 "nbformat_minor": 4
}
