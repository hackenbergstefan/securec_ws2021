{
 "cells": [
  {
   "cell_type": "markdown",
   "metadata": {},
   "source": [
    "# Lecture 1: Breaking RSA with SPA - Analyze"
   ]
  },
  {
   "cell_type": "code",
   "execution_count": null,
   "metadata": {},
   "outputs": [],
   "source": [
    "import securec\n",
    "import securec.util as util\n",
    "scope, target = util.init()"
   ]
  },
  {
   "cell_type": "markdown",
   "metadata": {},
   "source": [
    "## Code to attack\n",
    "\n",
    "### Implementation\n",
    "\n",
    "Let us recap the code from the previous notebook:\n",
    "```c\n",
    "uint8_t exponent = private_exponent;\n",
    "uint8_t message = 0xA0;\n",
    "\n",
    "uint16_t tmp;\n",
    "uint8_t result = 1;\n",
    "while (exponent)\n",
    "{\n",
    "    if (exponent & 1)\n",
    "    {\n",
    "        tmp = result * message;\n",
    "        result = tmp % modulus;\n",
    "    }\n",
    "\n",
    "    tmp = message * message;\n",
    "    message = tmp % modulus;\n",
    "    exponent >>= 1;\n",
    "}\n",
    "```\n",
    "\n",
    "Our expectation is that we can see a difference between a round executing the \"multiply\" step and a round executing the \"multiply and square\" step. As the difference only depends on the exponent let's modify the program to feed the exponent directly."
   ]
  },
  {
   "cell_type": "markdown",
   "metadata": {},
   "source": [
    "<div style=\"background: #f0ffe0; padding: 15px; border: 1px solid slategray;\">\n",
    "<div class=\"h2\" style=\"font-variant: small-caps;\">Exercise 1</div>\n",
    "\n",
    "1. Have a look at `2_rsa_uint8_variable.c`. What is different to `1_rsa_uint8_fixed`. Are all differences clear?\n",
    "2. Insert a cell and check if the program works correctly. Therefore, use the functions `target.simpleserial_write` and `target.simpleserial_read`.\n",
    "\n",
    "</div>"
   ]
  },
  {
   "cell_type": "markdown",
   "metadata": {},
   "source": [
    "### Record multiple traces and recognize differences"
   ]
  },
  {
   "cell_type": "code",
   "execution_count": null,
   "metadata": {},
   "outputs": [],
   "source": [
    "securec.util.compile_and_flash('./2_rsa_uint8_variable.c')"
   ]
  },
  {
   "cell_type": "code",
   "execution_count": null,
   "metadata": {},
   "outputs": [],
   "source": [
    "import struct\n",
    "import time\n",
    "import warnings\n",
    "    \n",
    "scope.default_setup()\n",
    "scope.adc.samples = 5500\n",
    "\n",
    "def capture(exponent, message=0xA0, modulus=0xFF):\n",
    "    scope.arm()\n",
    "    target.simpleserial_write('r', struct.pack('<BBB', message, exponent, modulus))\n",
    "    return util.capture()"
   ]
  },
  {
   "cell_type": "code",
   "execution_count": null,
   "metadata": {},
   "outputs": [],
   "source": [
    "traces = [(exp, capture(exp)) for exp in (0b100, 0b101, 0b111)]"
   ]
  },
  {
   "cell_type": "code",
   "execution_count": null,
   "metadata": {},
   "outputs": [],
   "source": [
    "from bokeh.plotting import figure, show \n",
    "from bokeh.io import output_notebook\n",
    "from bokeh.models import CrosshairTool\n",
    "from bokeh.palettes import Category10_10\n",
    "\n",
    "output_notebook()"
   ]
  },
  {
   "cell_type": "code",
   "execution_count": null,
   "metadata": {},
   "outputs": [],
   "source": [
    "p = figure(width=900, height=800)\n",
    "p.add_tools(CrosshairTool())\n",
    "for i, (exp, trace) in enumerate(traces):\n",
    "    p.line(range(0, len(trace)), trace + i * 0.6, legend_label=bin(exp), line_color=Category10_10[i])\n",
    "show(p)"
   ]
  },
  {
   "cell_type": "markdown",
   "metadata": {},
   "source": [
    "<div style=\"background: #f0ffe0; padding: 15px; border: 1px solid slategray;\">\n",
    "<div class=\"h2\" style=\"font-variant: small-caps;\">Exercise 2</div>\n",
    "\n",
    "Explain the plot above!\n",
    "\n",
    "</div>"
   ]
  },
  {
   "cell_type": "markdown",
   "metadata": {},
   "source": [
    "<div style=\"background: #f0ffe0; padding: 15px; border: 1px solid slategray;\">\n",
    "<div class=\"h2\" style=\"font-variant: small-caps;\">Exercise 3</div>\n",
    "\n",
    "Now you have an idea how different exponents look like. Go back to the previous notebook [1. SPA RSA Introduction](1.%20SPA%20RSA%20Introduction.ipynb). Modify the C-code in [1_rsa_uint8_fixed.c](1_rsa_uint8_fixed.c) and modify the exponent there. Flash the program and exchange the chipwhisperer with another student. Reveal her or his exponent!\n",
    "\n",
    "</div>"
   ]
  },
  {
   "cell_type": "code",
   "execution_count": null,
   "metadata": {},
   "outputs": [],
   "source": [
    "util.exit()"
   ]
  }
 ],
 "metadata": {
  "kernelspec": {
   "display_name": "Python 3",
   "language": "python",
   "name": "python3"
  },
  "language_info": {
   "codemirror_mode": {
    "name": "ipython",
    "version": 3
   },
   "file_extension": ".py",
   "mimetype": "text/x-python",
   "name": "python",
   "nbconvert_exporter": "python",
   "pygments_lexer": "ipython3",
   "version": "3.8.5"
  },
  "toc": {
   "base_numbering": 1,
   "nav_menu": {},
   "number_sections": true,
   "sideBar": true,
   "skip_h1_title": true,
   "title_cell": "Table of Contents",
   "title_sidebar": "Contents",
   "toc_cell": false,
   "toc_position": {},
   "toc_section_display": true,
   "toc_window_display": false
  }
 },
 "nbformat": 4,
 "nbformat_minor": 4
}
