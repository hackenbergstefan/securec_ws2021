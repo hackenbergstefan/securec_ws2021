{
 "cells": [
  {
   "cell_type": "markdown",
   "metadata": {},
   "source": [
    "# Lecture 3: Password Attack with Difference Analysis - Introduction"
   ]
  },
  {
   "cell_type": "markdown",
   "metadata": {},
   "source": [
    "In this example we want to improve the basic passwdcheck to be resistant against the attack from the last tutorial.\n",
    "\n",
    "## Improving the code\n",
    "\n",
    "Let's first recap the password checking loop from the basic passwdcheck:\n",
    "```c\n",
    "for(uint8_t i = 0; i < sizeof(stored_password); i++)\n",
    "{\n",
    "    if (stored_password[i] != passwd[i])\n",
    "    {\n",
    "        password_correct = 0;\n",
    "        break;\n",
    "    }\n",
    "}\n",
    "```\n",
    "\n",
    "The timing attack discussed in the last example worked because the loop's runtime varies with the number of correct characters. Once the first wrong character occurs the loop breaks.\n",
    "This is, what we want to change:\n",
    "\n",
    "```c\n",
    "for(uint8_t i = 0; i < sizeof(stored_password); i++)\n",
    "{\n",
    "    if (stored_password[i] != passwd[i])\n",
    "    {\n",
    "        password_correct = 0;\n",
    "    }\n",
    "}\n",
    "```\n",
    "\n",
    "This is an excerpt from `3_password_fixed.c`. It is clear that the loop does not break after the first wrong character and always all characters of the password are checked."
   ]
  },
  {
   "cell_type": "markdown",
   "metadata": {},
   "source": [
    "## Develop a new idea"
   ]
  },
  {
   "cell_type": "code",
   "execution_count": null,
   "metadata": {},
   "outputs": [],
   "source": [
    "import securec\n",
    "from securec import util\n",
    "scope, target = util.init()"
   ]
  },
  {
   "cell_type": "code",
   "execution_count": null,
   "metadata": {},
   "outputs": [],
   "source": [
    "securec.util.compile_and_flash('./3_password_fixed.c')"
   ]
  },
  {
   "cell_type": "code",
   "execution_count": null,
   "metadata": {},
   "outputs": [],
   "source": [
    "import struct\n",
    "import time\n",
    "import warnings\n",
    "    \n",
    "scope.default_setup()\n",
    "scope.adc.samples = 500\n",
    "\n",
    "def capture(attempt):\n",
    "    scope.arm()\n",
    "    target.simpleserial_write('p', attempt.encode('ascii') + b'\\x00' * (10 - len(attempt)))\n",
    "    result = target.simpleserial_read('p', 1)\n",
    "    return util.capture(), not bool(result[0])"
   ]
  },
  {
   "cell_type": "code",
   "execution_count": null,
   "metadata": {},
   "outputs": [],
   "source": [
    "from bokeh.plotting import figure, show \n",
    "from bokeh.io import output_notebook\n",
    "from bokeh.models import CrosshairTool\n",
    "from bokeh.palettes import Category10_10\n",
    "\n",
    "output_notebook()"
   ]
  },
  {
   "cell_type": "code",
   "execution_count": null,
   "metadata": {},
   "outputs": [],
   "source": [
    "traces = [(attempt, capture(attempt)[0]) for attempt in ('\\x00', 'a', 'i')]"
   ]
  },
  {
   "cell_type": "code",
   "execution_count": null,
   "metadata": {},
   "outputs": [],
   "source": [
    "p = figure(width=900, height=200)\n",
    "p.add_tools(CrosshairTool())\n",
    "for idx, ((attempt1, trace1), (attempt2, trace2)) in enumerate([\n",
    "    (traces[0], traces[1]),\n",
    "    (traces[0], traces[2]),\n",
    "]):\n",
    "    p.line(\n",
    "        range(len(trace1)), \n",
    "        abs(trace1 - trace2), \n",
    "        line_color=Category10_10[idx],\n",
    "        legend_label=f'abs({attempt1} - {attempt2}) with MAD = {max(abs(trace1 - trace2)):.2f}'\n",
    "    )\n",
    "show(p)"
   ]
  },
  {
   "cell_type": "markdown",
   "metadata": {},
   "source": [
    "## MAD password attack\n",
    "\n",
    "Given two traces $t_1, t_2$ their MAD value is defined as:\n",
    "$$\\text{MAD}(t_1, t_2) := \\text{max}\\big( \\big| t_1[i] - t_2[i] \\big| \\big),$$\n",
    "where $t[i]$ is the value of trace $t$ at point $i$."
   ]
  },
  {
   "cell_type": "code",
   "execution_count": null,
   "metadata": {},
   "outputs": [],
   "source": [
    "def mad(trace1, trace2):\n",
    "    return max(abs(trace1 - trace2))"
   ]
  },
  {
   "cell_type": "code",
   "execution_count": null,
   "metadata": {},
   "outputs": [],
   "source": [
    "def attack_password_mad(\n",
    "    mad_threshold=0.05,\n",
    "    charlist='abcdefghijklmnopqrstuvwxyz0123456789',\n",
    "    basechar='\\x00',\n",
    "):\n",
    "    result = False\n",
    "    password = ''\n",
    "\n",
    "    while not result or len(password) > 9:\n",
    "        basetrace, _ = capture(password + basechar)\n",
    "        for c in charlist:\n",
    "            trace, result = capture(password + c)\n",
    "            if mad(trace, basetrace) > mad_threshold:\n",
    "                password += c\n",
    "                print(f'success: \"{c}\" => password = {password}')\n",
    "                break\n",
    "        else:\n",
    "            print('no found')\n",
    "            break\n",
    "    return password, result"
   ]
  },
  {
   "cell_type": "code",
   "execution_count": null,
   "metadata": {},
   "outputs": [],
   "source": [
    "attack_password_mad()"
   ]
  },
  {
   "cell_type": "code",
   "execution_count": null,
   "metadata": {},
   "outputs": [],
   "source": [
    "util.exit()"
   ]
  }
 ],
 "metadata": {
  "kernelspec": {
   "display_name": "Python 3",
   "language": "python",
   "name": "python3"
  },
  "language_info": {
   "codemirror_mode": {
    "name": "ipython",
    "version": 3
   },
   "file_extension": ".py",
   "mimetype": "text/x-python",
   "name": "python",
   "nbconvert_exporter": "python",
   "pygments_lexer": "ipython3",
   "version": "3.8.6"
  },
  "toc": {
   "base_numbering": 1,
   "nav_menu": {},
   "number_sections": true,
   "sideBar": true,
   "skip_h1_title": true,
   "title_cell": "Table of Contents",
   "title_sidebar": "Contents",
   "toc_cell": false,
   "toc_position": {},
   "toc_section_display": true,
   "toc_window_display": true
  }
 },
 "nbformat": 4,
 "nbformat_minor": 4
}
