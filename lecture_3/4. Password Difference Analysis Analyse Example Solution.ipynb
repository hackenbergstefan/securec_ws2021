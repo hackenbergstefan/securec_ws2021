{
 "cells": [
  {
   "cell_type": "markdown",
   "metadata": {},
   "source": [
    "# Lecture 3: Password Attack with Difference Analysis - Analyse"
   ]
  },
  {
   "cell_type": "markdown",
   "metadata": {},
   "source": [
    "In this example we want to improve the basic passwdcheck to be resistant against the attack from the last tutorial.\n",
    "\n",
    "## Improving the code\n",
    "\n",
    "Let's first recap the password checking loop from the basic passwdcheck:\n",
    "```c\n",
    "for(uint8_t i = 0; i < sizeof(stored_password); i++)\n",
    "{\n",
    "    if (stored_password[i] != passwd[i])\n",
    "    {\n",
    "        password_correct = 0;\n",
    "        break;\n",
    "    }\n",
    "}\n",
    "```\n",
    "\n",
    "The timing attack discussed in the last example worked because the loop's runtime varies with the number of correct characters. Once the first wrong character occurs the loop breaks.\n",
    "This is, what we want to change:\n",
    "\n",
    "```c\n",
    "for(uint8_t i = 0; i < sizeof(stored_password); i++)\n",
    "{\n",
    "    if (stored_password[i] != passwd[i])\n",
    "    {\n",
    "        password_correct = 0;\n",
    "    }\n",
    "}\n",
    "```\n",
    "\n",
    "This is an excerpt from `3_password_fixed.c`. It is clear that the loop does not break after the first wrong character and always all characters of the password are checked."
   ]
  },
  {
   "cell_type": "markdown",
   "metadata": {},
   "source": [
    "## MAD password attack\n",
    "\n",
    "Given two traces $t_1, t_2$ their MAD value is defined as:\n",
    "$$\\text{MAD}(t_1, t_2) := \\text{max}\\big( \\big| t_1[i] - t_2[i] \\big| \\big),$$\n",
    "where $t[i]$ is the value of trace $t$ at point $i$."
   ]
  },
  {
   "cell_type": "code",
   "execution_count": null,
   "metadata": {},
   "outputs": [],
   "source": [
    "import securec\n",
    "from securec import util\n",
    "scope, target = util.init()"
   ]
  },
  {
   "cell_type": "code",
   "execution_count": null,
   "metadata": {},
   "outputs": [],
   "source": [
    "securec.util.compile_and_flash('./3_password_fixed.c')"
   ]
  },
  {
   "cell_type": "code",
   "execution_count": null,
   "metadata": {},
   "outputs": [],
   "source": [
    "import struct\n",
    "import time\n",
    "import warnings\n",
    "import numpy as np\n",
    "\n",
    "scope.default_setup()\n",
    "scope.adc.samples = 500\n",
    "\n",
    "def capture(attempt, count=1):\n",
    "    traces = []\n",
    "    for _ in range(count):\n",
    "        scope.arm()\n",
    "        target.simpleserial_write('p', attempt.encode('iso-8859-1') + b'\\x00' * (10 - len(attempt)))\n",
    "        result = target.simpleserial_read('p', 1)\n",
    "        traces.append(util.capture())\n",
    "    return np.mean(np.array(traces), axis=0), not bool(result[0])"
   ]
  },
  {
   "cell_type": "code",
   "execution_count": null,
   "metadata": {},
   "outputs": [],
   "source": [
    "import math\n",
    "from bokeh.plotting import figure, show \n",
    "from bokeh.io import output_notebook\n",
    "from bokeh.models import CrosshairTool\n",
    "from bokeh.palettes import Category10_10\n",
    "from bokeh.models import Span, Label, BoxAnnotation\n",
    "\n",
    "output_notebook()"
   ]
  },
  {
   "cell_type": "code",
   "execution_count": null,
   "metadata": {},
   "outputs": [],
   "source": [
    "def mad(trace1, trace2):\n",
    "    return max(abs(trace1 - trace2))"
   ]
  },
  {
   "cell_type": "markdown",
   "metadata": {},
   "source": [
    "## Analysis of differences"
   ]
  },
  {
   "cell_type": "markdown",
   "metadata": {},
   "source": [
    "### Assembly code analysis"
   ]
  },
  {
   "cell_type": "markdown",
   "metadata": {},
   "source": [
    "```c\n",
    "\n",
    "uint8_t password_wrong = 0;\n",
    "for (unsigned int i = 0; i < sizeof(stored_password) - 1; i++)\n",
    "{\n",
    "    if (stored_password[i] != input[i])\n",
    "    \n",
    "// Load Indirect and Post-Increment. Z contains address to stored_password\n",
    " 22e:    21 91           ld    r18, Z+\n",
    " \n",
    "// Load Indirect and Post-Increment. X contains address to input\n",
    " 230:    8d 91           ld    r24, X+\n",
    " \n",
    "// Compare, Skip if Equal, i.e. (IF r18 == r24 => Jump over next assembly instruction <-> ldi r25, 0x01)\n",
    " 232:    28 13           cpse    r18, r24\n",
    "        {\n",
    "            password_wrong = 1;\n",
    "            \n",
    "// Load immediate <-> r25 = 0x01 <-> password_wrong = 1 <-> if executed a peak in power consumption can be seen   \n",
    " 234:    91 e0           ldi    r25, 0x01    ; 1\n",
    "\n",
    "\n",
    "    \n",
    "// NOTE: Head of loop in assembly mostly at the end <-> i < sizeof(stored_password) - 1; i++\n",
    "for (unsigned int i = 0; i < sizeof(stored_password) - 1; i++)\n",
    "\n",
    "// Load immediate <-> r24 = 32\n",
    " 236:    80 e2           ldi    r24, 0x20    ; 32\n",
    " \n",
    "// Compare immediate <-> r30 == 0x08 <-> R30 = i and 0x08 = sizeof(stored_password)\n",
    "// NOTE: Comparison in assembly done by subtraction --> r30 - 0x08, if 0, then Zero Flag is set\n",
    " 238:    e8 30           cpi    r30, 0x08    ; 8\n",
    " \n",
    "// Compare with carry <-> r31 == r24 <-> if r31 - ( r24 + c ) != 0, then zero flag = 0 --> compare False\n",
    " 23a:    f8 07           cpc    r31, r24\n",
    " \n",
    "// Branch not equal <-> If Zero Flag not set --> Jump -16 bytes up, i.e. back to 22e\n",
    " 23c:    c1 f7           brne    .-16        ; 0x22e <check_password+0x18>\n",
    " 23e:    99 83           std    Y+1, r25     ; 0x01\n",
    "        {\n",
    "            password_wrong = 1;\n",
    "        }\n",
    "    }\n",
    "```"
   ]
  },
  {
   "cell_type": "markdown",
   "metadata": {},
   "source": [
    "### Plot"
   ]
  },
  {
   "cell_type": "code",
   "execution_count": null,
   "metadata": {},
   "outputs": [],
   "source": [
    "basetrace = capture('')[0]\n",
    "traces = [(attempt, capture(attempt, count=10)[0]) for attempt in ('a', 'b', 'i', '\\x00', '\\xff')]\n",
    "\n",
    "p = figure(height=500, sizing_mode='stretch_width', x_range=(20, 60))\n",
    "p.add_tools(CrosshairTool())\n",
    "for idx, (attempt, trace) in enumerate(traces):\n",
    "    difftrace = abs(trace - basetrace) * 10\n",
    "    p.line(\n",
    "        range(len(difftrace)),\n",
    "        difftrace,\n",
    "        line_color=Category10_10[idx],\n",
    "        legend_label=f'abs(\"\" - {attempt.encode(\"iso-8859-1\")})'\n",
    "    )\n",
    "    p.line(\n",
    "        range(len(difftrace)),\n",
    "        trace - 0.3,\n",
    "        line_color=Category10_10[idx],\n",
    "    )\n",
    "\n",
    "for i, (x, label) in enumerate(zip(\n",
    "    range(29, 80, 4), \n",
    "    ('ld r18, Z+', 'ld r24, X+', 'cpse r18, r24', 'ldi r25, 0x01', 'ldi r24, 0x20')\n",
    ")):\n",
    "    p.add_layout(Span(location=x, dimension='height', line_color='darkslateblue', line_width=20, line_alpha=0.1))\n",
    "    p.add_layout(Label(x=x, y=p.plot_height, text=label, y_units='screen', x_offset=-15, y_offset=-35,\n",
    "                       text_align='right', text_color='darkslateblue', angle=math.pi/2))\n",
    "    for idx, (_, trace) in enumerate(traces):\n",
    "        p.circle(x, (abs(trace - basetrace) * 10)[x], size=10, color=Category10_10[idx])\n",
    "\n",
    "show(p)"
   ]
  },
  {
   "cell_type": "code",
   "execution_count": null,
   "metadata": {},
   "outputs": [],
   "source": [
    "util.exit()"
   ]
  }
 ],
 "metadata": {
  "kernelspec": {
   "display_name": "Python 3",
   "language": "python",
   "name": "python3"
  },
  "language_info": {
   "codemirror_mode": {
    "name": "ipython",
    "version": 3
   },
   "file_extension": ".py",
   "mimetype": "text/x-python",
   "name": "python",
   "nbconvert_exporter": "python",
   "pygments_lexer": "ipython3",
   "version": "3.8.6"
  },
  "toc": {
   "base_numbering": 1,
   "nav_menu": {},
   "number_sections": true,
   "sideBar": true,
   "skip_h1_title": true,
   "title_cell": "Table of Contents",
   "title_sidebar": "Contents",
   "toc_cell": false,
   "toc_position": {},
   "toc_section_display": true,
   "toc_window_display": false
  }
 },
 "nbformat": 4,
 "nbformat_minor": 4
}
