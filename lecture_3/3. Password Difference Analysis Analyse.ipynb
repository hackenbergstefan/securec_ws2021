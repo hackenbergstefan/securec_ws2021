{
 "cells": [
  {
   "cell_type": "markdown",
   "metadata": {},
   "source": [
    "# Lecture 3: Password Attack with Difference Analysis - Analyse"
   ]
  },
  {
   "cell_type": "markdown",
   "metadata": {},
   "source": [
    "In this example we want to improve the basic passwdcheck to be resistant against the attack from the last tutorial.\n",
    "\n",
    "## Improving the code\n",
    "\n",
    "Let's first recap the password checking loop from the basic passwdcheck:\n",
    "```c\n",
    "for(uint8_t i = 0; i < sizeof(stored_password); i++)\n",
    "{\n",
    "    if (stored_password[i] != passwd[i])\n",
    "    {\n",
    "        password_correct = 0;\n",
    "        break;\n",
    "    }\n",
    "}\n",
    "```\n",
    "\n",
    "The timing attack discussed in the last example worked because the loop's runtime varies with the number of correct characters. Once the first wrong character occurs the loop breaks.\n",
    "This is, what we want to change:\n",
    "\n",
    "```c\n",
    "for(uint8_t i = 0; i < sizeof(stored_password); i++)\n",
    "{\n",
    "    if (stored_password[i] != passwd[i])\n",
    "    {\n",
    "        password_correct = 0;\n",
    "    }\n",
    "}\n",
    "```\n",
    "\n",
    "This is an excerpt from `3_password_fixed.c`. It is clear that the loop does not break after the first wrong character and always all characters of the password are checked."
   ]
  },
  {
   "cell_type": "markdown",
   "metadata": {},
   "source": [
    "## MAD password attack\n",
    "\n",
    "Given two traces $t_1, t_2$ their MAD value is defined as:\n",
    "$$\\text{MAD}(t_1, t_2) := \\text{max}\\big( \\big| t_1[i] - t_2[i] \\big| \\big),$$\n",
    "where $t[i]$ is the value of trace $t$ at point $i$."
   ]
  },
  {
   "cell_type": "code",
   "execution_count": null,
   "metadata": {},
   "outputs": [],
   "source": [
    "import securec\n",
    "from securec import util\n",
    "scope, target = util.init()"
   ]
  },
  {
   "cell_type": "code",
   "execution_count": null,
   "metadata": {},
   "outputs": [],
   "source": [
    "securec.util.compile_and_flash('./3_password_fixed.c')"
   ]
  },
  {
   "cell_type": "code",
   "execution_count": null,
   "metadata": {},
   "outputs": [],
   "source": [
    "import struct\n",
    "import time\n",
    "import warnings\n",
    "import numpy as np\n",
    "\n",
    "scope.default_setup()\n",
    "scope.adc.samples = 500\n",
    "\n",
    "def capture(attempt, count=1):\n",
    "    traces = []\n",
    "    for _ in range(count):\n",
    "        scope.arm()\n",
    "        target.simpleserial_write('p', attempt.encode('iso-8859-1') + b'\\x00' * (10 - len(attempt)))\n",
    "        result = target.simpleserial_read('p', 1)\n",
    "        traces.append(util.capture())\n",
    "    return np.mean(np.array(traces), axis=0), not bool(result[0])"
   ]
  },
  {
   "cell_type": "code",
   "execution_count": null,
   "metadata": {},
   "outputs": [],
   "source": [
    "from bokeh.plotting import figure, show \n",
    "from bokeh.io import output_notebook\n",
    "from bokeh.models import CrosshairTool\n",
    "from bokeh.palettes import Category10_10\n",
    "from bokeh.models import Span, Label, BoxAnnotation\n",
    "\n",
    "output_notebook()"
   ]
  },
  {
   "cell_type": "code",
   "execution_count": null,
   "metadata": {},
   "outputs": [],
   "source": [
    "def mad(trace1, trace2):\n",
    "    return max(abs(trace1 - trace2))"
   ]
  },
  {
   "cell_type": "markdown",
   "metadata": {},
   "source": [
    "## Analysis of differences"
   ]
  },
  {
   "cell_type": "markdown",
   "metadata": {},
   "source": [
    "<div style=\"background: #f0ffe0; padding: 15px; border: 1px solid slategray;\">\n",
    "<div class=\"h2\" style=\"font-variant: small-caps;\">Exercise 1</div>\n",
    "    \n",
    "Have a look at the assembly code of `3_password_fixed.c`. It's the `.lss` file. Understand instruction per instruction what the CPU is doing. The [XMEGA reference manual](http://ww1.microchip.com/downloads/en/DeviceDoc/Atmel-8210-8-and-16-bit-AVR-Microcontrollers-XMEGA-D_Manual.pdf) might be helpful.\n",
    "</div>"
   ]
  },
  {
   "cell_type": "markdown",
   "metadata": {},
   "source": [
    "<div style=\"background: #f0ffe0; padding: 15px; border: 1px solid slategray;\">\n",
    "<div class=\"h2\" style=\"font-variant: small-caps;\">Exercise 2</div>\n",
    "    \n",
    "Create a plot to explain your investigations and especially their relation to the MAD-Attack. The plot below is an example. The manual of [bokeh](https://docs.bokeh.org/en/latest/index.html) might be helpful. I used `line`, `Span`, `Label`.\n",
    "    \n",
    "<img src=\"Lecture 3: Password Attack with Difference Analysis - Analyse.png\"></img>\n",
    "</div>"
   ]
  },
  {
   "cell_type": "markdown",
   "metadata": {},
   "source": [
    "<div style=\"background: #f0ffe0; padding: 15px; border: 1px solid slategray;\">\n",
    "<div class=\"h2\" style=\"font-variant: small-caps;\">Exercise 3</div>\n",
    "   \n",
    "Explain why\n",
    "- At \"ins 3\" the green line is much higher than the others\n",
    "- At \"ins 3\" the others are not equal in height\n",
    "- The differences at \"ins 1\" are quite high\n",
    "\n",
    "</div>"
   ]
  }
 ],
 "metadata": {
  "kernelspec": {
   "display_name": "Python 3",
   "language": "python",
   "name": "python3"
  },
  "language_info": {
   "codemirror_mode": {
    "name": "ipython",
    "version": 3
   },
   "file_extension": ".py",
   "mimetype": "text/x-python",
   "name": "python",
   "nbconvert_exporter": "python",
   "pygments_lexer": "ipython3",
   "version": "3.8.6"
  },
  "toc": {
   "base_numbering": 1,
   "nav_menu": {},
   "number_sections": true,
   "sideBar": true,
   "skip_h1_title": true,
   "title_cell": "Table of Contents",
   "title_sidebar": "Contents",
   "toc_cell": false,
   "toc_position": {},
   "toc_section_display": true,
   "toc_window_display": true
  }
 },
 "nbformat": 4,
 "nbformat_minor": 4
}
