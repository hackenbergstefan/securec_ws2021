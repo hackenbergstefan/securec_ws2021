{
 "cells": [
  {
   "cell_type": "markdown",
   "metadata": {},
   "source": [
    "# Lecture 4: Password CPA Attack - Attack"
   ]
  },
  {
   "cell_type": "markdown",
   "metadata": {},
   "source": [
    "In this example we want to improve the password check again to be resistant against the attack from the last tutorial.\n",
    "\n",
    "## Improving the code\n",
    "\n",
    "Let's first recap the password checking loop from the last lecture:\n",
    "```c\n",
    "for(uint8_t i = 0; i < sizeof(stored_password); i++)\n",
    "{\n",
    "    if (stored_password[i] != passwd[i])\n",
    "    {\n",
    "        password_wrong = 1;\n",
    "    }\n",
    "}\n",
    "```\n",
    "\n",
    "The differences attack discussed in the last example worked because of the different power consumption when executing the code inside the if clause. This is addressed by the following code.\n",
    "\n",
    "```c\n",
    "uint8_t password_wrong = 0;\n",
    "for(uint8_t i = 0; i < sizeof(stored_password); i++)\n",
    "{\n",
    "    password_wrong |= stored_password[i] ^ passwd[i];\n",
    "}\n",
    "```\n",
    "\n",
    "This is an excerpt from `4_password_fixed.c`."
   ]
  },
  {
   "cell_type": "code",
   "execution_count": null,
   "metadata": {},
   "outputs": [],
   "source": [
    "import securec\n",
    "from securec import util\n",
    "scope, target = util.init()"
   ]
  },
  {
   "cell_type": "code",
   "execution_count": null,
   "metadata": {},
   "outputs": [],
   "source": [
    "securec.util.compile_and_flash('./4_password_fixed.c')"
   ]
  },
  {
   "cell_type": "code",
   "execution_count": null,
   "metadata": {},
   "outputs": [],
   "source": [
    "import struct\n",
    "import time\n",
    "import warnings\n",
    "import numpy as np\n",
    "\n",
    "scope.default_setup()\n",
    "\n",
    "def capture(attempt, samples=500):\n",
    "    scope.adc.samples = samples\n",
    "    if isinstance(attempt, str):\n",
    "        attempt = attempt.encode('iso-8859-1')\n",
    "    elif isinstance(attempt, int):\n",
    "        attempt = bytes([attempt])\n",
    "    traces = []\n",
    "    scope.arm()\n",
    "    target.simpleserial_write('p', attempt + b'\\x00' * (10 - len(attempt)))\n",
    "    result = target.simpleserial_read('p', 1)\n",
    "    return np.array(util.capture()), not bool(result[0])"
   ]
  },
  {
   "cell_type": "code",
   "execution_count": null,
   "metadata": {},
   "outputs": [],
   "source": [
    "import math\n",
    "import pandas as pd\n",
    "from bokeh.plotting import figure, show \n",
    "from bokeh.io import output_notebook\n",
    "from bokeh.models import CrosshairTool, LinearColorMapper\n",
    "from bokeh.palettes import Category10_10, Turbo256, Inferno256\n",
    "from bokeh.models import Span, Label, BoxAnnotation\n",
    "from bokeh.layouts import column, row\n",
    "from bokeh.transform import linear_cmap\n",
    "\n",
    "output_notebook()"
   ]
  },
  {
   "cell_type": "markdown",
   "metadata": {},
   "source": [
    "## Pearson correlation coefficient\n",
    "An interesting statistical formula to face this problem is given by the *Pearson correlation coefficient*. For two random variables $X, Y$ it is defined as\n",
    "\n",
    "$$\\rho_{X,Y} := \\frac{\\mathrm{Cov}(X, Y)}{\\sqrt{\\mathrm{Var}(X)} \\sqrt{\\mathrm{Var}(Y)}} \\ \\in [-1, 1]\\,.$$\n",
    "\n",
    "For two samples of finite length $x = {x_1, ..., x_n}$, $y = {y_1, ..., y_n}$ it can be defined as \n",
    "\n",
    "$$r_{x,y} := \\frac{\\sum_{i=1}^n (x_i - \\bar x)(y_i - \\bar y)}{\\sqrt{\\sum_{i=1}^n (x_i - \\bar x)^2}\\sqrt{\\sum_{i=1}^n (y_i - \\bar y)^2}} \\ \\in [-1, 1]\\,,$$\n",
    "\n",
    "where $\\bar x := \\frac{1}{n} \\sum_{i=1}^n x_i$ is the mean of a sample $x$."
   ]
  },
  {
   "cell_type": "markdown",
   "metadata": {},
   "source": [
    "## Preparation"
   ]
  },
  {
   "cell_type": "code",
   "execution_count": null,
   "metadata": {},
   "outputs": [],
   "source": [
    "import numpy as np\n",
    "\n",
    "HW = [bin(n).count(\"1\") for n in range(0, 256)]\n",
    "\n",
    "def hw(n):\n",
    "    if isinstance(n, str):\n",
    "        return HW[ord(n)]\n",
    "    return HW[n]\n",
    "\n",
    "hw_vec = np.vectorize(hw)"
   ]
  },
  {
   "cell_type": "markdown",
   "metadata": {},
   "source": [
    "In the later attack we will need to compute the correlation on a pointwise basis, thus we define `pearson_pointwise` as a function taking a $(n, m)$-matrix `traces` and a $n$-sized vector `intermediates` and computes a $m$-sized vector containing the Pearson correlation coefficient for `intermediates` and `traces[:, i]` for all $i=1..m$."
   ]
  },
  {
   "cell_type": "code",
   "execution_count": null,
   "metadata": {},
   "outputs": [],
   "source": [
    "def pearson_pointwise(traces, intermediates):\n",
    "    intermediates_diff = intermediates - np.mean(intermediates)\n",
    "    intermediates_sqrt = np.sqrt(np.sum(intermediates_diff ** 2))\n",
    "    traces_diff = traces - np.mean(traces, axis=0)\n",
    "    \n",
    "    return np.sum(traces_diff * intermediates_diff[:, None], axis=0) / (\n",
    "        np.sqrt(np.sum(traces_diff ** 2, axis=0)) * intermediates_sqrt\n",
    "    )"
   ]
  },
  {
   "cell_type": "code",
   "execution_count": null,
   "metadata": {},
   "outputs": [],
   "source": [
    "import numpy as np\n",
    "\n",
    "def pearson(x, y):\n",
    "    x_mean = np.mean(x)\n",
    "    y_mean = np.mean(y)\n",
    "    return sum((x - x_mean) * (y - y_mean)) / np.sqrt(sum((x - x_mean) ** 2) * sum((y - y_mean) ** 2))"
   ]
  },
  {
   "cell_type": "markdown",
   "metadata": {},
   "source": [
    "## Capture"
   ]
  },
  {
   "cell_type": "code",
   "execution_count": null,
   "metadata": {},
   "outputs": [],
   "source": [
    "import random\n",
    "import tqdm\n",
    "import tqdm.notebook\n",
    "\n",
    "trace_samples = 500\n",
    "trace_nums = 1000\n",
    "\n",
    "traces = []\n",
    "attempts = []\n",
    "for _ in tqdm.notebook.tqdm(range(trace_nums)):\n",
    "    attempt = bytes([random.randint(0, 255) for _ in range(10)])\n",
    "    traces.append(capture(attempt, samples=trace_samples)[0])\n",
    "    attempts.append(attempt)\n",
    "traces = np.array(traces)\n",
    "attempts = np.array([list(a) for a in attempts])"
   ]
  },
  {
   "cell_type": "markdown",
   "metadata": {},
   "source": [
    "## Attack"
   ]
  },
  {
   "cell_type": "code",
   "execution_count": null,
   "metadata": {
    "scrolled": false
   },
   "outputs": [],
   "source": [
    "import itertools\n",
    "\n",
    "def attack_cpa_bestof(attempts, traces, charlist='abcdefghijklmnopqrstuvwxyz'):\n",
    "    bestfits = []\n",
    "    for idx in range(8):\n",
    "        maxpearsons = []\n",
    "        for guess in charlist:\n",
    "            maxpearsons.append((max(abs(pearson_pointwise(traces, hw_vec(attempts[:, idx] ^ ord(guess))))), guess))\n",
    "        maxchars = list(sorted(maxpearsons, reverse=True))\n",
    "        bestfits.append(maxchars[:4])\n",
    "        print(idx, maxchars[:4])\n",
    "\n",
    "    for attempt in tqdm.notebook.tqdm(itertools.product(*map(lambda maxchars: [b[1] for b in maxchars], bestfits))):\n",
    "        attempt = ''.join(attempt)\n",
    "        if capture(attempt)[1]:\n",
    "            return attempt\n",
    "    \n",
    "attack_cpa_bestof(attempts, traces)"
   ]
  },
  {
   "cell_type": "markdown",
   "metadata": {},
   "source": [
    "## Plot correlations"
   ]
  },
  {
   "cell_type": "code",
   "execution_count": null,
   "metadata": {
    "scrolled": false
   },
   "outputs": [],
   "source": [
    "colormap = LinearColorMapper(\n",
    "    palette='Viridis256',\n",
    "    low=0,\n",
    "    high=1,\n",
    ")\n",
    "\n",
    "chars = list('abcdefghijklmnopqrstuvwxyz')\n",
    "\n",
    "for idx in range(8):\n",
    "    pearsons = [abs(pearson_pointwise(traces, hw_vec(attempts[:, idx] ^ ord(i)))) for i in chars]\n",
    "    df = pd.DataFrame(pearsons, index=chars)\n",
    "    df = df.stack().reset_index()\n",
    "    df.columns=['char', 'point', 'value']\n",
    "\n",
    "\n",
    "    p = figure(\n",
    "        y_range=chars, \n",
    "        height=400,\n",
    "        sizing_mode='stretch_width',\n",
    "        tooltips=[\n",
    "            (\"char\", \"@char\"),\n",
    "            (\"corr\", \"@value\"),\n",
    "        ],\n",
    "        title=f'Correlations for guessing position {idx}'\n",
    "    )\n",
    "\n",
    "    p.rect(\n",
    "        width=1,\n",
    "        height=1,\n",
    "        source=df,\n",
    "        x='point',\n",
    "        y='char',\n",
    "        fill_color={'field': 'value', 'transform': colormap},\n",
    "        line_color=None,\n",
    "    )\n",
    "    show(p)"
   ]
  },
  {
   "cell_type": "code",
   "execution_count": null,
   "metadata": {},
   "outputs": [],
   "source": []
  }
 ],
 "metadata": {
  "kernelspec": {
   "display_name": "Python 3",
   "language": "python",
   "name": "python3"
  },
  "language_info": {
   "codemirror_mode": {
    "name": "ipython",
    "version": 3
   },
   "file_extension": ".py",
   "mimetype": "text/x-python",
   "name": "python",
   "nbconvert_exporter": "python",
   "pygments_lexer": "ipython3",
   "version": "3.8.6"
  },
  "toc": {
   "base_numbering": 1,
   "nav_menu": {},
   "number_sections": true,
   "sideBar": true,
   "skip_h1_title": true,
   "title_cell": "Table of Contents",
   "title_sidebar": "Contents",
   "toc_cell": false,
   "toc_position": {
    "height": "calc(100% - 180px)",
    "left": "10px",
    "top": "150px",
    "width": "268.667px"
   },
   "toc_section_display": true,
   "toc_window_display": false
  }
 },
 "nbformat": 4,
 "nbformat_minor": 4
}
