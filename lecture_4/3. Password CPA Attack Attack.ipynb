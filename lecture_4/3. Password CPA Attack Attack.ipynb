{
 "cells": [
  {
   "cell_type": "markdown",
   "metadata": {},
   "source": [
    "# Lecture 4: Password CPA Attack - Attack"
   ]
  },
  {
   "cell_type": "markdown",
   "metadata": {},
   "source": [
    "In this example we want to improve the password check again to be resistant against the attack from the last tutorial.\n",
    "\n",
    "## Improving the code\n",
    "\n",
    "Let's first recap the password checking loop from the last lecture:\n",
    "```c\n",
    "for(uint8_t i = 0; i < sizeof(stored_password); i++)\n",
    "{\n",
    "    if (stored_password[i] != passwd[i])\n",
    "    {\n",
    "        password_wrong = 1;\n",
    "    }\n",
    "}\n",
    "```\n",
    "\n",
    "The differences attack discussed in the last example worked because of the different power consumption when executing the code inside the if clause. This is addressed by the following code.\n",
    "\n",
    "```c\n",
    "uint8_t password_wrong = 0;\n",
    "for(uint8_t i = 0; i < sizeof(stored_password); i++)\n",
    "{\n",
    "    password_wrong |= stored_password[i] ^ passwd[i];\n",
    "}\n",
    "```\n",
    "\n",
    "This is an excerpt from `4_password_fixed.c`."
   ]
  },
  {
   "cell_type": "code",
   "execution_count": null,
   "metadata": {},
   "outputs": [],
   "source": [
    "import securec\n",
    "from securec import util\n",
    "scope, target = util.init()"
   ]
  },
  {
   "cell_type": "code",
   "execution_count": null,
   "metadata": {},
   "outputs": [],
   "source": [
    "securec.util.compile_and_flash('./4_password_fixed.c')"
   ]
  },
  {
   "cell_type": "code",
   "execution_count": null,
   "metadata": {},
   "outputs": [],
   "source": [
    "import struct\n",
    "import time\n",
    "import warnings\n",
    "import numpy as np\n",
    "\n",
    "scope.default_setup()\n",
    "scope.adc.samples = 500\n",
    "\n",
    "def capture(attempt, count=1):\n",
    "    if isinstance(attempt, str):\n",
    "        attempt = attempt.encode('iso-8859-1')\n",
    "    elif isinstance(attempt, int):\n",
    "        attempt = bytes([attempt])\n",
    "    traces = []\n",
    "    for _ in range(count):\n",
    "        scope.arm()\n",
    "        target.simpleserial_write('p', attempt + b'\\x00' * (10 - len(attempt)))\n",
    "        result = target.simpleserial_read('p', 1)\n",
    "        traces.append(util.capture())\n",
    "    return np.mean(np.array(traces), axis=0), not bool(result[0])"
   ]
  },
  {
   "cell_type": "code",
   "execution_count": null,
   "metadata": {},
   "outputs": [],
   "source": [
    "import math\n",
    "from bokeh.plotting import figure, show \n",
    "from bokeh.io import output_notebook\n",
    "from bokeh.models import CrosshairTool\n",
    "from bokeh.palettes import Category10_10, Turbo256, Inferno256\n",
    "from bokeh.models import Span, Label, BoxAnnotation\n",
    "from bokeh.layouts import column, row\n",
    "\n",
    "output_notebook()"
   ]
  },
  {
   "cell_type": "markdown",
   "metadata": {},
   "source": [
    "## Preparation"
   ]
  },
  {
   "cell_type": "code",
   "execution_count": null,
   "metadata": {},
   "outputs": [],
   "source": [
    "import numpy as np\n",
    "\n",
    "HW = [bin(n).count(\"1\") for n in range(0, 256)]\n",
    "\n",
    "def hw(n):\n",
    "    if isinstance(n, str):\n",
    "        return HW[ord(n)]\n",
    "    return HW[n]\n",
    "\n",
    "hw_vec = np.vectorize(hw)"
   ]
  },
  {
   "cell_type": "code",
   "execution_count": null,
   "metadata": {},
   "outputs": [],
   "source": [
    "import random\n",
    "import tqdm\n",
    "import tqdm.notebook\n",
    "\n",
    "traces = []\n",
    "for _ in tqdm.notebook.tqdm(range(500)):\n",
    "    attempt = random.randint(0, 255)\n",
    "    traces.append((attempt, capture(attempt)[0]))"
   ]
  },
  {
   "cell_type": "markdown",
   "metadata": {},
   "source": [
    "## Pearson correlation coefficient\n",
    "An interesting statistical formula to face this problem is given by the *Pearson correlation coefficient*. For two random variables $X, Y$ it is defined as\n",
    "\n",
    "$$\\rho_{X,Y} := \\frac{\\mathrm{Cov}(X, Y)}{\\sqrt{\\mathrm{Var}(X)} \\sqrt{\\mathrm{Var}(Y)}} \\ \\in [-1, 1]\\,.$$\n",
    "\n",
    "For two samples of finite length $x = {x_1, ..., x_n}$, $y = {y_1, ..., y_n}$ it can be defined as \n",
    "\n",
    "$$r_{x,y} := \\frac{\\sum_{i=1}^n (x_i - \\bar x)(y_i - \\bar y)}{\\sqrt{\\sum_{i=1}^n (x_i - \\bar x)^2}\\sqrt{\\sum_{i=1}^n (y_i - \\bar y)^2}} \\ \\in [-1, 1]\\,,$$\n",
    "\n",
    "where $\\bar x := \\frac{1}{n} \\sum_{i=1}^n x_i$ is the mean of a sample $x$."
   ]
  },
  {
   "cell_type": "markdown",
   "metadata": {},
   "source": [
    "<div style=\"background: #f0ffe0; padding: 15px; border: 1px solid slategray;\">\n",
    "<div class=\"h2\" style=\"font-variant: small-caps;\">Exercise 1</div>\n",
    "    \n",
    "1. Implement Pearson correlation coefficient in python.\n",
    "2. Test your implementation against the following (x, y)-data with `size = 50`:\n",
    "    1. `(range(size), 5 * np.array(range(size)) + np.random.uniform(-size/4, size/4, size=size))` => $r \\approx 0.99$\n",
    "    2. `(range(size), np.array(range(size)) + np.random.uniform(-size, size, size=size) + 10)` => $r \\approx 0.32$\n",
    "    3. `(range(size), -3 * np.array(range(size)) + np.random.uniform(-size/4, size/4, size=size) + 200)` => $r \\approx -0.98$\n",
    "    4. `(range(size), 100 * np.sin(np.array(range(size)) / size * np.pi + np.pi) + np.random.uniform(-size/10, size/10, size=size))` => $r \\approx -0.05$\n",
    "3. Visualize above example data.\n",
    "</div>"
   ]
  },
  {
   "cell_type": "markdown",
   "metadata": {},
   "source": [
    "## Attack"
   ]
  },
  {
   "cell_type": "markdown",
   "metadata": {},
   "source": [
    "<div style=\"background: #f0ffe0; padding: 15px; border: 1px solid slategray;\">\n",
    "<div class=\"h2\" style=\"font-variant: small-caps;\">Exercise 2</div>\n",
    "    \n",
    "Develop an attack using Pearson correlation coefficient.\n",
    "\n",
    "</div>"
   ]
  }
 ],
 "metadata": {
  "kernelspec": {
   "display_name": "Python 3",
   "language": "python",
   "name": "python3"
  },
  "language_info": {
   "codemirror_mode": {
    "name": "ipython",
    "version": 3
   },
   "file_extension": ".py",
   "mimetype": "text/x-python",
   "name": "python",
   "nbconvert_exporter": "python",
   "pygments_lexer": "ipython3",
   "version": "3.8.6"
  },
  "toc": {
   "base_numbering": 1,
   "nav_menu": {},
   "number_sections": true,
   "sideBar": true,
   "skip_h1_title": true,
   "title_cell": "Table of Contents",
   "title_sidebar": "Contents",
   "toc_cell": false,
   "toc_position": {
    "height": "calc(100% - 180px)",
    "left": "10px",
    "top": "150px",
    "width": "268.667px"
   },
   "toc_section_display": true,
   "toc_window_display": false
  }
 },
 "nbformat": 4,
 "nbformat_minor": 4
}
