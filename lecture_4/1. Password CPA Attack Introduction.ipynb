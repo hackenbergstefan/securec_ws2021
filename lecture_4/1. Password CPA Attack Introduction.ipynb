{
 "cells": [
  {
   "cell_type": "markdown",
   "metadata": {},
   "source": [
    "# Lecture 4: Password CPA Attack - Introduction"
   ]
  },
  {
   "cell_type": "markdown",
   "metadata": {},
   "source": [
    "In this example we want to improve the password check again to be resistant against the attack from the last tutorial.\n",
    "\n",
    "## Improving the code\n",
    "\n",
    "Let's first recap the password checking loop from the last lecture:\n",
    "```c\n",
    "for(uint8_t i = 0; i < sizeof(stored_password); i++)\n",
    "{\n",
    "    if (stored_password[i] != passwd[i])\n",
    "    {\n",
    "        password_wrong = 1;\n",
    "    }\n",
    "}\n",
    "```\n",
    "\n",
    "The differences attack discussed in the last example worked because of the different power consumption when executing the code inside the if clause. This is addressed by the following code.\n",
    "\n",
    "```c\n",
    "uint8_t password_wrong = 0;\n",
    "for(uint8_t i = 0; i < sizeof(stored_password); i++)\n",
    "{\n",
    "    password_wrong |= stored_password[i] ^ passwd[i];\n",
    "}\n",
    "```\n",
    "\n",
    "This is an excerpt from `4_password_fixed.c`."
   ]
  },
  {
   "cell_type": "code",
   "execution_count": null,
   "metadata": {},
   "outputs": [],
   "source": [
    "import securec\n",
    "from securec import util\n",
    "scope, target = util.init()"
   ]
  },
  {
   "cell_type": "code",
   "execution_count": null,
   "metadata": {},
   "outputs": [],
   "source": [
    "securec.util.compile_and_flash('./4_password_fixed.c')"
   ]
  },
  {
   "cell_type": "code",
   "execution_count": null,
   "metadata": {},
   "outputs": [],
   "source": [
    "import struct\n",
    "import time\n",
    "import warnings\n",
    "import numpy as np\n",
    "\n",
    "scope.default_setup()\n",
    "scope.adc.samples = 500\n",
    "\n",
    "def capture(attempt, count=1):\n",
    "    if isinstance(attempt, str):\n",
    "        attempt = attempt.encode('iso-8859-1')\n",
    "    elif isinstance(attempt, int):\n",
    "        attempt = bytes([attempt])\n",
    "    traces = []\n",
    "    for _ in range(count):\n",
    "        scope.arm()\n",
    "        target.simpleserial_write('p', attempt + b'\\x00' * (10 - len(attempt)))\n",
    "        result = target.simpleserial_read('p', 1)\n",
    "        traces.append(util.capture())\n",
    "    return np.mean(np.array(traces), axis=0), not bool(result[0])"
   ]
  },
  {
   "cell_type": "code",
   "execution_count": null,
   "metadata": {},
   "outputs": [],
   "source": [
    "import math\n",
    "from bokeh.plotting import figure, show \n",
    "from bokeh.io import output_notebook\n",
    "from bokeh.models import CrosshairTool\n",
    "from bokeh.palettes import Category10_10\n",
    "from bokeh.models import Span, Label, BoxAnnotation\n",
    "from bokeh.layouts import gridplot, row, column\n",
    "\n",
    "output_notebook()"
   ]
  },
  {
   "cell_type": "markdown",
   "metadata": {},
   "source": [
    "## Analysis of differences by looking at hamming weights"
   ]
  },
  {
   "cell_type": "markdown",
   "metadata": {},
   "source": [
    "### Connect data with assembly"
   ]
  },
  {
   "cell_type": "markdown",
   "metadata": {},
   "source": [
    "We can repeat the plot from last lectures analysis. The assembly code changed of course and we see that there is no more peak when the attempts' character matches."
   ]
  },
  {
   "cell_type": "code",
   "execution_count": null,
   "metadata": {},
   "outputs": [],
   "source": [
    "traces = [(attempt, capture(attempt, count=10)[0]) for attempt in ('a', 'b', 'i', '\\x00', '\\xff')]\n",
    "\n",
    "p = figure(height=500, sizing_mode='stretch_width', x_range=(25, 55))\n",
    "p.add_tools(CrosshairTool())\n",
    "for idx, (attempt, trace) in enumerate(traces):\n",
    "    p.line(\n",
    "        range(len(trace)),\n",
    "        abs(trace),\n",
    "        line_color=Category10_10[idx],\n",
    "        legend_label=f'abs({attempt.encode(\"iso-8859-1\")})',\n",
    "    )\n",
    "\n",
    "for i, (x, label) in enumerate(zip(\n",
    "    range(29, 80, 4), \n",
    "    ('ld r24, Z+', '', 'ld r18, X+', '', 'eor r18, r24', 'or r25, r18')\n",
    ")):\n",
    "    if not label:\n",
    "        continue\n",
    "    p.add_layout(Span(location=x, dimension='height', line_color='darkslateblue', line_width=30, line_alpha=0.1))\n",
    "    p.add_layout(Label(x=x, y=p.plot_height, text=label, y_units='screen', x_offset=-15, y_offset=-35,\n",
    "                       text_align='right', text_color='darkslateblue', angle=math.pi/2))\n",
    "    for idx, (_, trace) in enumerate(traces):\n",
    "        p.circle(x, abs(trace)[x], size=10, color=Category10_10[idx])\n",
    "\n",
    "show(p)"
   ]
  },
  {
   "cell_type": "markdown",
   "metadata": {},
   "source": [
    "<div style=\"background: #f0ffe0; padding: 15px; border: 1px solid slategray;\">\n",
    "<div class=\"h2\" style=\"font-variant: small-caps;\">Exercise 1</div>\n",
    "    \n",
    "There are points in the plot above where all traces are nearly equal and there are points where they differ significantly. Explain this.\n",
    "\n",
    "</div>"
   ]
  },
  {
   "cell_type": "markdown",
   "metadata": {},
   "source": [
    "### Displaying Hamming Weights"
   ]
  },
  {
   "cell_type": "code",
   "execution_count": null,
   "metadata": {},
   "outputs": [],
   "source": [
    "import numpy as np\n",
    "\n",
    "HW = [bin(n).count(\"1\") for n in range(0, 256)]\n",
    "\n",
    "def hw(n):\n",
    "    if isinstance(n, str):\n",
    "        return HW[ord(n)]\n",
    "    return HW[n]\n",
    "\n",
    "hw_vec = np.vectorize(hw)"
   ]
  },
  {
   "cell_type": "code",
   "execution_count": null,
   "metadata": {},
   "outputs": [],
   "source": [
    "traces = [(attempt, capture(attempt, count=10)[0]) for attempt in b'\\x00\\x01\\x03\\x07\\x0f\\x1f\\x3f\\x7f\\xff']\n",
    "\n",
    "p = figure(title='hw(attempt) vs trace @ ld r18, X+', sizing_mode='stretch_width', plot_height=400)\n",
    "p.toolbar_location = None\n",
    "for idx, (attempt, trace) in enumerate(traces):\n",
    "    p.circle(\n",
    "        hw(attempt),\n",
    "        trace[37],\n",
    "        color=Category10_10[idx],\n",
    "        size=10,\n",
    "        legend_label=f'{attempt:02x}',\n",
    "    )\n",
    "\n",
    "show(p)"
   ]
  },
  {
   "cell_type": "markdown",
   "metadata": {},
   "source": [
    "<div style=\"background: #f0ffe0; padding: 15px; border: 1px solid slategray;\">\n",
    "<div class=\"h2\" style=\"font-variant: small-caps;\">Exercise 2</div>\n",
    "    \n",
    "Explain the plot above. Take the following principle into account:\n",
    "\n",
    "> The power consumption of a device is proportional to the hamming weight of the data it processes.\n",
    "\n",
    "</div>"
   ]
  },
  {
   "cell_type": "markdown",
   "metadata": {},
   "source": [
    "<div style=\"background: #f0ffe0; padding: 15px; border: 1px solid slategray;\">\n",
    "<div class=\"h2\" style=\"font-variant: small-caps;\">Exercise 3</div>\n",
    "    \n",
    "Make the plot above more vivid:\n",
    "1. Capture a few hundred (~500) traces each with a randomly chosen input of length 1.\n",
    "2. Repeat the plot above with the new input. \n",
    "    \n",
    "Side note: The python library `tqdm` provides a nice way of visualizing the progress of a loop:\n",
    "```python\n",
    "import tqdm\n",
    "import tqdm.notebook\n",
    "\n",
    "for element in tqdm.notebook.tqdm(mylist):\n",
    "    # Do something with element\n",
    "```\n",
    "</div>"
   ]
  },
  {
   "cell_type": "markdown",
   "metadata": {},
   "source": [
    "<div style=\"background: #f0ffe0; padding: 15px; border: 1px solid slategray;\">\n",
    "<div class=\"h2\" style=\"font-variant: small-caps;\">Exercise 4</div>\n",
    "\n",
    "Play around and look how your plot looks like at different positions of the trace, e.g. at `ld r24, Z+`, `eor r18, r24`. Is it clear why?\n",
    "    \n",
    "</div>"
   ]
  }
 ],
 "metadata": {
  "kernelspec": {
   "display_name": "Python 3",
   "language": "python",
   "name": "python3"
  },
  "language_info": {
   "codemirror_mode": {
    "name": "ipython",
    "version": 3
   },
   "file_extension": ".py",
   "mimetype": "text/x-python",
   "name": "python",
   "nbconvert_exporter": "python",
   "pygments_lexer": "ipython3",
   "version": "3.8.6"
  },
  "toc": {
   "base_numbering": 1,
   "nav_menu": {},
   "number_sections": true,
   "sideBar": true,
   "skip_h1_title": true,
   "title_cell": "Table of Contents",
   "title_sidebar": "Contents",
   "toc_cell": false,
   "toc_position": {
    "height": "calc(100% - 180px)",
    "left": "10px",
    "top": "150px",
    "width": "268.667px"
   },
   "toc_section_display": true,
   "toc_window_display": false
  }
 },
 "nbformat": 4,
 "nbformat_minor": 4
}
